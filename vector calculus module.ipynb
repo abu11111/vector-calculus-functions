{
 "cells": [
  {
   "cell_type": "code",
   "execution_count": 4,
   "metadata": {},
   "outputs": [],
   "source": [
    "from sympy import *\n",
    "import numpy as np\n",
    "init_printing()"
   ]
  },
  {
   "cell_type": "code",
   "execution_count": 5,
   "metadata": {},
   "outputs": [],
   "source": [
    "x,y,z,i,j,k= symbols('x y z i j k')\n",
    "# Function to calculate gradiant of a scalar function\n",
    "def grad(func):\n",
    "    d= diff(func,x)*i+diff(func,y)*j+diff(func,z)*k\n",
    "    return d\n",
    "# Function to calculate divergence  of a vector field\n",
    "def diver(ls):\n",
    "    d= diff(ls[0],x)+diff(ls[1],y)+diff(ls[2],z)\n",
    "    return d\n",
    "# Function to calculate CURL of a vector field\n",
    "def curl(ls):\n",
    "    d= i*(diff(ls[2],y)-diff(ls[1],z))-j*(diff(ls[2],x)-diff(ls[0],z))+k*(diff(ls[1],x)-diff(ls[0],y))\n",
    "    return d\n",
    "# functions to find laplacian of scalar and vector fields\n",
    "def laplace_scalar(fun):\n",
    "    d= fun.diff(x,x)+fun.diff(y,y)+fun.diff(z,z)\n",
    "    return d\n",
    "def laplace_vector(ls):\n",
    "    d= (ls[0].diff(x,x)+ls[0].diff(y,y)+ls[0].diff(z,z))*i+(ls[1].diff(x,x)+ls[1].diff(y,y)+ls[1].diff(z,z))*j +(ls[2].diff(x,x)+ls[2].diff(y,y)+ls[2].diff(z,z))*k\n",
    "    return d"
   ]
  },
  {
   "cell_type": "markdown",
   "metadata": {},
   "source": [
    "# Examples \n"
   ]
  },
  {
   "cell_type": "code",
   "execution_count": 6,
   "metadata": {},
   "outputs": [
    {
     "data": {
      "image/png": "[encoded data removed]",
      "text/latex": [
       "$\\displaystyle \\frac{2 i x}{x^{2} + y^{2} + z^{2}} + \\frac{2 j y}{x^{2} + y^{2} + z^{2}} + \\frac{2 k z}{x^{2} + y^{2} + z^{2}}$"
      ],
      "text/plain": [
       "   2⋅i⋅x          2⋅j⋅y          2⋅k⋅z    \n",
       "──────────── + ──────────── + ────────────\n",
       " 2    2    2    2    2    2    2    2    2\n",
       "x  + y  + z    x  + y  + z    x  + y  + z "
      ]
     },
     "execution_count": 6,
     "metadata": {},
     "output_type": "execute_result"
    }
   ],
   "source": [
    "g=log(x**2+y**2+z**2)\n",
    "grad(g)"
   ]
  },
  {
   "cell_type": "code",
   "execution_count": 7,
   "metadata": {},
   "outputs": [],
   "source": [
    "fg= [x**2-y**2,2*x*y,y**2-x*y]"
   ]
  },
  {
   "cell_type": "code",
   "execution_count": 8,
   "metadata": {},
   "outputs": [
    {
     "data": {
      "image/png": "[encoded data removed]",
      "text/latex": [
       "$\\displaystyle 4 x$"
      ],
      "text/plain": [
       "4⋅x"
      ]
     },
     "execution_count": 8,
     "metadata": {},
     "output_type": "execute_result"
    }
   ],
   "source": [
    "diver(fg)"
   ]
  },
  {
   "cell_type": "code",
   "execution_count": 9,
   "metadata": {},
   "outputs": [
    {
     "data": {
      "image/png": "[encoded data removed]",
      "text/latex": [
       "$\\displaystyle i \\left(- x + 2 y\\right) + j y + 4 k y$"
      ],
      "text/plain": [
       "i⋅(-x + 2⋅y) + j⋅y + 4⋅k⋅y"
      ]
     },
     "execution_count": 9,
     "metadata": {},
     "output_type": "execute_result"
    }
   ],
   "source": [
    "curl(fg)"
   ]
  },
  {
   "cell_type": "code",
   "execution_count": 10,
   "metadata": {},
   "outputs": [
    {
     "data": {
      "image/png": "[encoded data removed]",
      "text/latex": [
       "$\\displaystyle 2 x^{2} y^{3} + 6 x^{2} y z^{2} + 2 y^{3} z^{2}$"
      ],
      "text/plain": [
       "   2  3      2    2      3  2\n",
       "2⋅x ⋅y  + 6⋅x ⋅y⋅z  + 2⋅y ⋅z "
      ]
     },
     "execution_count": 10,
     "metadata": {},
     "output_type": "execute_result"
    }
   ],
   "source": [
    "fn= (x**2)*(y**3)*(z**2)\n",
    "laplace_scalar(fn)"
   ]
  },
  {
   "cell_type": "code",
   "execution_count": null,
   "metadata": {},
   "outputs": [],
   "source": []
  }
 ],
 "metadata": {
  "kernelspec": {
   "display_name": "Python 3",
   "language": "python",
   "name": "python3"
  },
  "language_info": {
   "codemirror_mode": {
    "name": "ipython",
    "version": 3
   },
   "file_extension": ".py",
   "mimetype": "text/x-python",
   "name": "python",
   "nbconvert_exporter": "python",
   "pygments_lexer": "ipython3",
   "version": "3.7.6"
  }
 },
 "nbformat": 4,
 "nbformat_minor": 4
}
